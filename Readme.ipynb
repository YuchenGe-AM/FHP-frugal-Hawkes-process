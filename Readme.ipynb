{
 "cells": [
  {
   "cell_type": "markdown",
   "id": "f24304d3-b3c3-46e3-8542-ed05df256fb2",
   "metadata": {
    "tags": []
   },
   "source": [
    "# R for Frugal Hawkes Process\n",
    "\n",
    "1. **Simulation_Preparation.R** prepares necessary functions for simulation of the frugal Hawkes processes.\n",
    "2. **Inference_Preparation.R** prepares necessary functions for inference of the frugal Hawkes processes.\n",
    "3. **Simulation_Methods.R** simulates frugal Hawkes processes with copula/thinning/marginal modelling based methods.\n",
    "4. **Simulation_Test.R** compares the performance of different simulation algorithms with ks/cvm/ad tests via random time change theorem.\n",
    "5. **Inference_MLE.R** implements the inference algorithm for frugal Hawkes processes.\n",
    "6. **Seismic_Data_Example.R** models seismic activities of two regions with the frugal Hawkes process.\n",
    "\n",
    "# Errata for Frugal Hawkes Process"
   ]
  },
  {
   "cell_type": "markdown",
   "id": "d918e5f7-ed65-451f-8f1c-a18838471909",
   "metadata": {},
   "source": [
    "1. P9: In Assumption 13, replace $\" N^{P_i} \"$ with $\" \\widetilde{N}^{P_i} \"$ (also in P11 and the third-to-last line in P20). \n",
    "2. P10: In the remark, correct $\" C’(m, n) \\neq C’(m, n) \"$ with $\" C’(m, n) \\neq C’(n, m) \"$. \n",
    "3. P18: In definition 18, correct $\" \\nu(D) \"$ with $\" \\nu(Q) \"$ and $\" M:[a, b] \\rightarrow \\mathbb{R}^{n \\times n} \"$ with $\" A:[a, b] \\rightarrow \\mathbb{R}^{n \\times n} \"$. \n",
    "4. P23: In the first paragraph, clarify  \"it is convenient to write the original distribution\n",
    "$\" dL(O) $ for the general process $ N \"$. \n",
    "5. P30: In the first paragraph, change $\" N^k \"$ with $\" N^K \"$. \n",
    "5. P32: Replace the first equation with \n",
    "$$\" \\lambda_{t}^{i,i} = \\nu_{i} + \\int_{0}^{t} \\phi_{i}(u) d \\widetilde{N}_{t-u}^{i} = \\nu_{i} + \\int_{0}^{t} \\alpha_{i} e^{-\\beta_{i} u} d \\widetilde{N}_{t-u}^{i} \"$$ \n",
    "and $\" \\lambda_s^{i} \"$ in 5.3 with $\" \\lambda_s^{i,i} \"$."
   ]
  },
  {
   "cell_type": "code",
   "execution_count": null,
   "id": "fae4ea35-554d-494f-83a8-fb05dbbdb8ec",
   "metadata": {},
   "outputs": [],
   "source": []
  }
 ],
 "metadata": {
  "kernelspec": {
   "display_name": "Python 3 (ipykernel)",
   "language": "python",
   "name": "python3"
  },
  "language_info": {
   "codemirror_mode": {
    "name": "ipython",
    "version": 3
   },
   "file_extension": ".py",
   "mimetype": "text/x-python",
   "name": "python",
   "nbconvert_exporter": "python",
   "pygments_lexer": "ipython3",
   "version": "3.9.18"
  }
 },
 "nbformat": 4,
 "nbformat_minor": 5
}
